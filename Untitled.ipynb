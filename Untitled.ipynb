{
 "cells": [
  {
   "cell_type": "code",
   "execution_count": 1,
   "metadata": {},
   "outputs": [],
   "source": [
    "import numpy as np"
   ]
  },
  {
   "cell_type": "code",
   "execution_count": 16,
   "metadata": {},
   "outputs": [
    {
     "name": "stdout",
     "output_type": "stream",
     "text": [
      "[list([1.0, 1.0, 1.0, 1.0, 1.0, 1.0, 1.0])\n",
      " list([2.0, 2.0, 2.0, 2.0, 2.0, 2.0]) list([4.0, 4.0, 4.0, 4.0, 4.0])\n",
      " list([7.0, 7.0, 7.0, 7.0]) list([11.0, 11.0, 11.0]) list([16.0, 16.0])\n",
      " list([22.0])]\n"
     ]
    }
   ],
   "source": [
    "x = []\n",
    "for i in range(1, 8):\n",
    "    x_ = []\n",
    "    for j in range(1, 8-i+1):\n",
    "        x_ += [(i*(i-1))/2+1]\n",
    "    x += [x_]\n",
    "    \n",
    "x = np.array(x).T\n",
    "print(x)"
   ]
  },
  {
   "cell_type": "code",
   "execution_count": 9,
   "metadata": {},
   "outputs": [],
   "source": []
  },
  {
   "cell_type": "code",
   "execution_count": 10,
   "metadata": {},
   "outputs": [
    {
     "data": {
      "text/plain": [
       "array([list([1.0, 1.0, 1.0, 1.0, 1.0]), list([2.0, 2.0, 2.0, 2.0]),\n",
       "       list([4.0, 4.0, 4.0]), list([7.0, 7.0]), list([11.0]), list([]),\n",
       "       list([])], dtype=object)"
      ]
     },
     "execution_count": 10,
     "metadata": {},
     "output_type": "execute_result"
    }
   ],
   "source": [
    "x"
   ]
  }
 ],
 "metadata": {
  "kernelspec": {
   "display_name": "Python 3",
   "language": "python",
   "name": "python3"
  },
  "language_info": {
   "codemirror_mode": {
    "name": "ipython",
    "version": 3
   },
   "file_extension": ".py",
   "mimetype": "text/x-python",
   "name": "python",
   "nbconvert_exporter": "python",
   "pygments_lexer": "ipython3",
   "version": "3.6.5"
  }
 },
 "nbformat": 4,
 "nbformat_minor": 2
}
