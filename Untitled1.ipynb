{
 "cells": [
  {
   "cell_type": "code",
   "execution_count": 1,
   "metadata": {},
   "outputs": [],
   "source": [
    "import os\n",
    "import numpy as np"
   ]
  },
  {
   "cell_type": "code",
   "execution_count": 68,
   "metadata": {},
   "outputs": [],
   "source": [
    "def generateSortedList(dataFolder):\n",
    "    files = []\n",
    "    modification_time = []\n",
    "    \n",
    "    for file in os.listdir(dataFolder + \"/\"):\n",
    "        if file.endswith(\".npy\"):\n",
    "            files += [os.path.join(dataFolder, file)]\n",
    "            modification_time += [os.path.getmtime(files[-1])]\n",
    "    \n",
    "    a = np.array([files, modification_time]).T   \n",
    "    a = a[np.float128(a[:,1]).argsort()] # sort by ascending order based on the second column\n",
    "    \n",
    "    with open(dataFolder + \"/sorted.list\", \"wb\") as f:\n",
    "        for i in a[:,0]:\n",
    "            f.write((i.strip(dataFolder) + \" \").encode())"
   ]
  },
  {
   "cell_type": "code",
   "execution_count": 72,
   "metadata": {},
   "outputs": [],
   "source": [
    "def readDataDirectory(dataFolder):\n",
    "    files = None\n",
    "    with open(\"./data/sorted.list\", \"rb\") as f:\n",
    "        files = f.read().decode().split(\" \")\n",
    "    return files[:-1]"
   ]
  },
  {
   "cell_type": "code",
   "execution_count": 74,
   "metadata": {},
   "outputs": [
    {
     "data": {
      "text/plain": [
       "99"
      ]
     },
     "execution_count": 74,
     "metadata": {},
     "output_type": "execute_result"
    }
   ],
   "source": [
    "generateSortedList(\"./data\")\n",
    "readDataDirectory('./data')"
   ]
  }
 ],
 "metadata": {
  "kernelspec": {
   "display_name": "Python 3",
   "language": "python",
   "name": "python3"
  },
  "language_info": {
   "codemirror_mode": {
    "name": "ipython",
    "version": 3
   },
   "file_extension": ".py",
   "mimetype": "text/x-python",
   "name": "python",
   "nbconvert_exporter": "python",
   "pygments_lexer": "ipython3",
   "version": "3.6.5"
  }
 },
 "nbformat": 4,
 "nbformat_minor": 2
}
